{
 "cells": [
  {
   "cell_type": "code",
   "execution_count": 1,
   "id": "b05c514b",
   "metadata": {},
   "outputs": [],
   "source": [
    "a=int('01100000', 2)\n"
   ]
  },
  {
   "cell_type": "code",
   "execution_count": 2,
   "id": "8be3c101",
   "metadata": {},
   "outputs": [
    {
     "data": {
      "text/plain": [
       "96"
      ]
     },
     "execution_count": 2,
     "metadata": {},
     "output_type": "execute_result"
    }
   ],
   "source": [
    "a"
   ]
  },
  {
   "cell_type": "code",
   "execution_count": 52,
   "id": "92045b4e",
   "metadata": {},
   "outputs": [],
   "source": [
    "def orr(lst):\n",
    "    a1=[[int(x) for x in (a).replace('b',\"0\")] for a in lst]\n",
    "    l=[0,0,0,0]\n",
    "    \n",
    "    for i in a1:\n",
    "        m=0\n",
    "        print(i)\n",
    "        for j in i:\n",
    "            if j==1:\n",
    "                l[m]=1\n",
    "                m+=1\n",
    "    print(l)\n",
    "                "
   ]
  },
  {
   "cell_type": "code",
   "execution_count": 53,
   "id": "2d7d1fe8",
   "metadata": {},
   "outputs": [
    {
     "name": "stdout",
     "output_type": "stream",
     "text": [
      "[0, 0, 1, 1, 1, 1, 1, 0, 1, 0, 0, 1]\n"
     ]
    },
    {
     "ename": "IndexError",
     "evalue": "list assignment index out of range",
     "output_type": "error",
     "traceback": [
      "\u001b[1;31m---------------------------------------------------------------------------\u001b[0m",
      "\u001b[1;31mIndexError\u001b[0m                                Traceback (most recent call last)",
      "Input \u001b[1;32mIn [53]\u001b[0m, in \u001b[0;36m<cell line: 1>\u001b[1;34m()\u001b[0m\n\u001b[1;32m----> 1\u001b[0m \u001b[43morr\u001b[49m\u001b[43m(\u001b[49m\u001b[43m[\u001b[49m\u001b[38;5;241;43m1001\u001b[39;49m\u001b[43m,\u001b[49m\u001b[38;5;241;43m0b11\u001b[39;49m\u001b[43m,\u001b[49m\u001b[38;5;241;43m0b01\u001b[39;49m\u001b[43m]\u001b[49m\u001b[43m)\u001b[49m\n",
      "Input \u001b[1;32mIn [52]\u001b[0m, in \u001b[0;36morr\u001b[1;34m(lst)\u001b[0m\n\u001b[0;32m      8\u001b[0m     \u001b[38;5;28;01mfor\u001b[39;00m j \u001b[38;5;129;01min\u001b[39;00m i:\n\u001b[0;32m      9\u001b[0m         \u001b[38;5;28;01mif\u001b[39;00m j\u001b[38;5;241m==\u001b[39m\u001b[38;5;241m1\u001b[39m:\n\u001b[1;32m---> 10\u001b[0m             l[m]\u001b[38;5;241m=\u001b[39m\u001b[38;5;241m1\u001b[39m\n\u001b[0;32m     11\u001b[0m             m\u001b[38;5;241m+\u001b[39m\u001b[38;5;241m=\u001b[39m\u001b[38;5;241m1\u001b[39m\n\u001b[0;32m     12\u001b[0m \u001b[38;5;28mprint\u001b[39m(l)\n",
      "\u001b[1;31mIndexError\u001b[0m: list assignment index out of range"
     ]
    }
   ],
   "source": [
    "orr([1001,0b11,0b01])"
   ]
  },
  {
   "cell_type": "code",
   "execution_count": 54,
   "id": "f96600ab",
   "metadata": {},
   "outputs": [
    {
     "data": {
      "text/plain": [
       "['0011', '00100', '001000']"
      ]
     },
     "execution_count": 54,
     "metadata": {},
     "output_type": "execute_result"
    }
   ],
   "source": [
    "lst=[3,4,8]\n",
    "\n",
    "b=[bin(a).replace('b',\"0\") for a in lst]\n",
    "b"
   ]
  },
  {
   "cell_type": "code",
   "execution_count": 30,
   "id": "9742f201",
   "metadata": {},
   "outputs": [
    {
     "name": "stdout",
     "output_type": "stream",
     "text": [
      "0\n",
      "0\n",
      "0\n",
      "0\n"
     ]
    }
   ],
   "source": [
    "lst1=[0,0,0,0]\n",
    "for c in lst1:\n",
    "    print(c)"
   ]
  },
  {
   "cell_type": "code",
   "execution_count": 31,
   "id": "b435e02d",
   "metadata": {},
   "outputs": [],
   "source": []
  },
  {
   "cell_type": "code",
   "execution_count": null,
   "id": "55a98aab",
   "metadata": {},
   "outputs": [],
   "source": []
  }
 ],
 "metadata": {
  "kernelspec": {
   "display_name": "Python 3 (ipykernel)",
   "language": "python",
   "name": "python3"
  },
  "language_info": {
   "codemirror_mode": {
    "name": "ipython",
    "version": 3
   },
   "file_extension": ".py",
   "mimetype": "text/x-python",
   "name": "python",
   "nbconvert_exporter": "python",
   "pygments_lexer": "ipython3",
   "version": "3.9.12"
  }
 },
 "nbformat": 4,
 "nbformat_minor": 5
}
