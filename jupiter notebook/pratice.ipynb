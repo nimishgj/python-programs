{
 "cells": [
  {
   "cell_type": "code",
   "execution_count": 2,
   "metadata": {},
   "outputs": [
    {
     "name": "stdout",
     "output_type": "stream",
     "text": [
      "Addition result:3\n"
     ]
    }
   ],
   "source": [
    "def add(a,b):\n",
    "    print(f\"Addition result:{a+b}\")\n",
    "    \n",
    "def sub(a,b):\n",
    "    print(f\"subtraction result:{a-b}\")  \n",
    "    \n",
    "def mul(a,b):\n",
    "    print(f\"multiplication result:{a*b}\")      \n",
    "    \n",
    "def div(a,b):\n",
    "    print(f\"divison result:{a/b}\")          \n",
    "    \n",
    "    \n",
    "    \n",
    "    \n",
    "ch=int(input(\"1.addition  2.subtraction   3.multiply   4.division  \\n Enter your choice:\"))\n",
    "\n",
    "if ch>4:\n",
    "    print(\"Invalid choice..!\")\n",
    "else:\n",
    "    a,b=map(int,input(\"Enter two numbers:\").split(\" \"))\n",
    "    if ch==1:\n",
    "        add(a,b)\n",
    "    elif ch==2:\n",
    "        sub(a,b)\n",
    "    elif ch==3:\n",
    "        mul(a,b)\n",
    "    elif ch==4:\n",
    "        div(a,b)\n",
    "    \n"
   ]
  },
  {
   "cell_type": "code",
   "execution_count": null,
   "metadata": {},
   "outputs": [],
   "source": [
    "dict={}\n",
    "n=int(input(\"Number of inputs:\"))\n",
    "for i in range(n):\n",
    "    r,n,s=map(str,input(\"Enter the rollno name score:\").split(\" \"))\n",
    "    dict[r]={'name':n,'score':int(s)}\n",
    "\n",
    "i=input(\"Enter the rollno to be searched:\")\n",
    "if i in dict:\n",
    "    print(f\"Name:{dict[i]['name']}\\nScore:{dict[i]['score']}\")\n",
    "else:\n",
    "    print(\"Rollno not found..!\")     "
   ]
  },
  {
   "cell_type": "code",
   "execution_count": 1,
   "metadata": {},
   "outputs": [
    {
     "data": {
      "text/plain": [
       "10"
      ]
     },
     "execution_count": 1,
     "metadata": {},
     "output_type": "execute_result"
    }
   ],
   "source": [
    "a=10\n",
    "a"
   ]
  },
  {
   "cell_type": "code",
   "execution_count": null,
   "metadata": {},
   "outputs": [],
   "source": []
  }
 ],
 "metadata": {
  "kernelspec": {
   "display_name": "Python 3.10.5 64-bit",
   "language": "python",
   "name": "python3"
  },
  "language_info": {
   "codemirror_mode": {
    "name": "ipython",
    "version": 3
   },
   "file_extension": ".py",
   "mimetype": "text/x-python",
   "name": "python",
   "nbconvert_exporter": "python",
   "pygments_lexer": "ipython3",
   "version": "3.10.5"
  },
  "vscode": {
   "interpreter": {
    "hash": "e84323d39ec0853d82281457ddb6be39d7eb15f33c1e238a7ff535db111b62a8"
   }
  }
 },
 "nbformat": 4,
 "nbformat_minor": 2
}
