{
 "cells": [
  {
   "cell_type": "code",
   "execution_count": 1,
   "id": "fd88db94",
   "metadata": {},
   "outputs": [],
   "source": [
    "import pandas as pd\n",
    "from sklearn.preprocessing import LabelEncoder,OneHotEncoder\n"
   ]
  },
  {
   "cell_type": "code",
   "execution_count": 5,
   "id": "aa3dd89c",
   "metadata": {},
   "outputs": [],
   "source": [
    "traindf=pd.read_csv(\"KDDTrain+_2.csv\",names=col_names)"
   ]
  },
  {
   "cell_type": "code",
   "execution_count": 6,
   "id": "5ac80194",
   "metadata": {},
   "outputs": [],
   "source": [
    "testdf=pd.read_csv(\"KDDTest+_2.csv\",names=col_names)"
   ]
  },
  {
   "cell_type": "code",
   "execution_count": 7,
   "id": "6ecfcadb",
   "metadata": {},
   "outputs": [],
   "source": [
    "col_names = [\"duration\",\"protocol_type\",\"service\",\"flag\",\"src_bytes\",\n",
    "    \"dst_bytes\",\"land\",\"wrong_fragment\",\"urgent\",\"hot\",\"num_failed_logins\",\n",
    "    \"logged_in\",\"num_compromised\",\"root_shell\",\"su_attempted\",\"num_root\",\n",
    "    \"num_file_creations\",\"num_shells\",\"num_access_files\",\"num_outbound_cmds\",\n",
    "    \"is_host_login\",\"is_guest_login\",\"count\",\"srv_count\",\"serror_rate\",\n",
    "    \"srv_serror_rate\",\"rerror_rate\",\"srv_rerror_rate\",\"same_srv_rate\",\n",
    "    \"diff_srv_rate\",\"srv_diff_host_rate\",\"dst_host_count\",\"dst_host_srv_count\",\n",
    "    \"dst_host_same_srv_rate\",\"dst_host_diff_srv_rate\",\"dst_host_same_src_port_rate\",\n",
    "    \"dst_host_srv_diff_host_rate\",\"dst_host_serror_rate\",\"dst_host_srv_serror_rate\",\n",
    "    \"dst_host_rerror_rate\",\"dst_host_srv_rerror_rate\",\"label\"]"
   ]
  },
  {
   "cell_type": "code",
   "execution_count": 10,
   "id": "fbbea5cf",
   "metadata": {},
   "outputs": [
    {
     "data": {
      "text/plain": [
       "duration                         int64\n",
       "protocol_type                   object\n",
       "service                         object\n",
       "flag                            object\n",
       "src_bytes                        int64\n",
       "dst_bytes                        int64\n",
       "land                             int64\n",
       "wrong_fragment                   int64\n",
       "urgent                           int64\n",
       "hot                              int64\n",
       "num_failed_logins                int64\n",
       "logged_in                        int64\n",
       "num_compromised                  int64\n",
       "root_shell                       int64\n",
       "su_attempted                     int64\n",
       "num_root                         int64\n",
       "num_file_creations               int64\n",
       "num_shells                       int64\n",
       "num_access_files                 int64\n",
       "num_outbound_cmds                int64\n",
       "is_host_login                    int64\n",
       "is_guest_login                   int64\n",
       "count                            int64\n",
       "srv_count                        int64\n",
       "serror_rate                    float64\n",
       "srv_serror_rate                float64\n",
       "rerror_rate                    float64\n",
       "srv_rerror_rate                float64\n",
       "same_srv_rate                  float64\n",
       "diff_srv_rate                  float64\n",
       "srv_diff_host_rate             float64\n",
       "dst_host_count                   int64\n",
       "dst_host_srv_count               int64\n",
       "dst_host_same_srv_rate         float64\n",
       "dst_host_diff_srv_rate         float64\n",
       "dst_host_same_src_port_rate    float64\n",
       "dst_host_srv_diff_host_rate    float64\n",
       "dst_host_serror_rate           float64\n",
       "dst_host_srv_serror_rate       float64\n",
       "dst_host_rerror_rate           float64\n",
       "dst_host_srv_rerror_rate       float64\n",
       "label                           object\n",
       "dtype: object"
      ]
     },
     "execution_count": 10,
     "metadata": {},
     "output_type": "execute_result"
    }
   ],
   "source": [
    "traindf.dtypes"
   ]
  },
  {
   "cell_type": "code",
   "execution_count": 16,
   "id": "70da41c4",
   "metadata": {},
   "outputs": [],
   "source": [
    "ls=[\"protocol_type\",\"service\",\"flag\"]"
   ]
  },
  {
   "cell_type": "code",
   "execution_count": 18,
   "id": "35ae333e",
   "metadata": {},
   "outputs": [],
   "source": [
    "trainCtz=traindf[ls]\n",
    "testCtz=testdf[ls]"
   ]
  },
  {
   "cell_type": "code",
   "execution_count": 26,
   "id": "6fa84999",
   "metadata": {},
   "outputs": [],
   "source": [
    "C1=[\"protocol_\" + x for x in traindf['protocol_type'].unique()]\n",
    "C2=[\"service_\" + x for x in traindf['service'].unique()]\n",
    "C3=[\"flag_\" + x for x in traindf['flag'].unique()]\n",
    "dumcols=C1+C2+C3"
   ]
  },
  {
   "cell_type": "code",
   "execution_count": 30,
   "id": "7e92c6e6",
   "metadata": {},
   "outputs": [],
   "source": [
    "trainCtzEncd=trainCtz.apply(LabelEncoder().fit_transform)\n",
    "testCtzEncd=testCtz.apply(LabelEncoder().fit_transform)"
   ]
  },
  {
   "cell_type": "code",
   "execution_count": null,
   "id": "fec02575",
   "metadata": {},
   "outputs": [],
   "source": [
    "one=OneHotEncoder()\n",
    "trainCtzOncd=one.fit_transform(trainCtzEncd)\n",
    "testCtzOncd=one.fit_transform(testCtzEncd)\n",
    "trainDf=pd.DataFrame(trainCtzOncd.toarray(),columns=dumcols)\n",
    "testDf=pd.DataFrame(testCtzOncd.toarray(),columns=dumcols)"
   ]
  },
  {
   "cell_type": "code",
   "execution_count": null,
   "id": "ce1c4505",
   "metadata": {},
   "outputs": [],
   "source": []
  }
 ],
 "metadata": {
  "kernelspec": {
   "display_name": "Python 3 (ipykernel)",
   "language": "python",
   "name": "python3"
  },
  "language_info": {
   "codemirror_mode": {
    "name": "ipython",
    "version": 3
   },
   "file_extension": ".py",
   "mimetype": "text/x-python",
   "name": "python",
   "nbconvert_exporter": "python",
   "pygments_lexer": "ipython3",
   "version": "3.9.12"
  }
 },
 "nbformat": 4,
 "nbformat_minor": 5
}
