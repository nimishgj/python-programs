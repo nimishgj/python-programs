{
 "cells": [
  {
   "cell_type": "code",
   "execution_count": 19,
   "id": "ad379c7a",
   "metadata": {},
   "outputs": [
    {
     "ename": "ModuleNotFoundError",
     "evalue": "No module named 'matplotlib.pylot'",
     "output_type": "error",
     "traceback": [
      "\u001b[1;31m---------------------------------------------------------------------------\u001b[0m",
      "\u001b[1;31mModuleNotFoundError\u001b[0m                       Traceback (most recent call last)",
      "Input \u001b[1;32mIn [19]\u001b[0m, in \u001b[0;36m<cell line: 3>\u001b[1;34m()\u001b[0m\n\u001b[0;32m      1\u001b[0m \u001b[38;5;28;01mimport\u001b[39;00m \u001b[38;5;21;01mpandas\u001b[39;00m \u001b[38;5;28;01mas\u001b[39;00m \u001b[38;5;21;01mpd\u001b[39;00m\n\u001b[0;32m      2\u001b[0m \u001b[38;5;28;01mimport\u001b[39;00m \u001b[38;5;21;01mcsv\u001b[39;00m\n\u001b[1;32m----> 3\u001b[0m \u001b[38;5;28;01mimport\u001b[39;00m \u001b[38;5;21;01mmatplotlib\u001b[39;00m\u001b[38;5;21;01m.\u001b[39;00m\u001b[38;5;21;01mpylot\u001b[39;00m \u001b[38;5;28;01mas\u001b[39;00m \u001b[38;5;21;01mplt\u001b[39;00m\n\u001b[0;32m      4\u001b[0m filename \u001b[38;5;241m=\u001b[39m\u001b[38;5;124m\"\u001b[39m\u001b[38;5;124msales.csv\u001b[39m\u001b[38;5;124m\"\u001b[39m\n\u001b[0;32m      5\u001b[0m data\u001b[38;5;241m=\u001b[39mpd\u001b[38;5;241m.\u001b[39mread_csv(filename)\n",
      "\u001b[1;31mModuleNotFoundError\u001b[0m: No module named 'matplotlib.pylot'"
     ]
    }
   ],
   "source": [
    "import pandas as pd\n",
    "import csv\n",
    "import matplotlib.pylot as plt\n",
    "filename =\"sales.csv\"\n",
    "data=pd.read_csv(filename)\n",
    "id=\"\"\n",
    "def findmax():\n",
    "        max=data.iloc[0][\"Total\"]\n",
    "        for i,x in data.iterrows():\n",
    "            if x[\"Total\"]>max:\n",
    "                id=x[\"Invoice ID\"]\n",
    "        print(id)        \n",
    "findmax()  \n",
    "def modeOfPayment():\n",
    "    wallet=0\n",
    "    cash=0\n",
    "    creditcard=0\n",
    "    for i,x in data.iterrows():\n",
    "        if x[\"Payment\"]==\"Ewallet\":\n",
    "            wallet=wallet+1\n",
    "        elif x[\"Payment\"]==\"Cash\":\n",
    "            cash=cash+1\n",
    "        elif x[\"Payment\"]==\"Credit card\":\n",
    "            creditcard=creditcard+1\n",
    "     \n",
    "    print(f\"Number of payment made using Ewallet:{wallet}\\nNumber of payment made using cash:{cash}\\nNumber of payment made using creditcard:{creditcard}\")\n",
    "modeOfPayment()\n",
    "msum=0\n",
    "fsum=0\n",
    "\n",
    "\n",
    "for i,x in data.iterrows():\n",
    "    if x[\"Gender\"]==\"Male\":\n",
    "        msum=msum+x['Total']\n",
    "    elif x['Gender']==\"Female\":\n",
    "        fsum=fsum+x['Total']\n",
    "\n",
    "x=[\"Male\",\"Female\"]        \n",
    "y=[msum,fsum]\n",
    "plt.bar(x,y,width=0.4)\n",
    "plt.xlabel(\"Gender\")\n",
    "plt.ylabel(\"Spent amount\")"
   ]
  },
  {
   "cell_type": "code",
   "execution_count": null,
   "id": "f3721080",
   "metadata": {},
   "outputs": [],
   "source": []
  },
  {
   "cell_type": "code",
   "execution_count": null,
   "id": "680ac1de",
   "metadata": {},
   "outputs": [],
   "source": []
  }
 ],
 "metadata": {
  "kernelspec": {
   "display_name": "Python 3 (ipykernel)",
   "language": "python",
   "name": "python3"
  },
  "language_info": {
   "codemirror_mode": {
    "name": "ipython",
    "version": 3
   },
   "file_extension": ".py",
   "mimetype": "text/x-python",
   "name": "python",
   "nbconvert_exporter": "python",
   "pygments_lexer": "ipython3",
   "version": "3.9.12"
  }
 },
 "nbformat": 4,
 "nbformat_minor": 5
}
