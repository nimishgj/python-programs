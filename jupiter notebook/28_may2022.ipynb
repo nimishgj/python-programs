{
 "cells": [
  {
   "cell_type": "code",
   "execution_count": 1,
   "metadata": {},
   "outputs": [
    {
     "name": "stdout",
     "output_type": "stream",
     "text": [
      "54123\n"
     ]
    }
   ],
   "source": [
    "#program to reverse a number\n",
    "a=int(input(\"Enter a number: \"))\n",
    "rev=0\n",
    "while(a!=0):\n",
    "    rem=a%10\n",
    "    rev=rev*10+rem\n",
    "    a=a//10\n",
    "print(rev)    \n"
   ]
  },
  {
   "cell_type": "code",
   "execution_count": 2,
   "metadata": {},
   "outputs": [
    {
     "name": "stdout",
     "output_type": "stream",
     "text": [
      "Average:116.5\n",
      "Minimum:21\n"
     ]
    }
   ],
   "source": [
    "a,b=map(int,input(\"Enter two marks:\").split())\n",
    "avg=(a+b)/2\n",
    "min=a\n",
    "if(b<min):\n",
    "    min=b\n",
    "print(f\"Average:{avg}\")\n",
    "print(f\"Minimum:{min}\")    "
   ]
  },
  {
   "cell_type": "code",
   "execution_count": 3,
   "metadata": {},
   "outputs": [
    {
     "name": "stdout",
     "output_type": "stream",
     "text": [
      "1\n"
     ]
    },
    {
     "data": {
      "image/png": "[encoded data removed]",
      "text/plain": [
       "<Figure size 432x288 with 1 Axes>"
      ]
     },
     "metadata": {
      "needs_background": "light"
     },
     "output_type": "display_data"
    }
   ],
   "source": [
    "import numpy as np\n",
    "from matplotlib import pyplot as plt\n",
    "\n",
    "x=np.array([1,2,3])\n",
    "y=3*x**2-3\n",
    "print(x[0])\n",
    "plt.plot(x,y)\n",
    "plt.show()\n",
    "\n"
   ]
  },
  {
   "cell_type": "code",
   "execution_count": null,
   "metadata": {},
   "outputs": [],
   "source": []
  }
 ],
 "metadata": {
  "kernelspec": {
   "display_name": "Python 3.10.5 64-bit",
   "language": "python",
   "name": "python3"
  },
  "language_info": {
   "codemirror_mode": {
    "name": "ipython",
    "version": 3
   },
   "file_extension": ".py",
   "mimetype": "text/x-python",
   "name": "python",
   "nbconvert_exporter": "python",
   "pygments_lexer": "ipython3",
   "version": "3.10.5"
  },
  "orig_nbformat": 4,
  "vscode": {
   "interpreter": {
    "hash": "e84323d39ec0853d82281457ddb6be39d7eb15f33c1e238a7ff535db111b62a8"
   }
  }
 },
 "nbformat": 4,
 "nbformat_minor": 2
}
