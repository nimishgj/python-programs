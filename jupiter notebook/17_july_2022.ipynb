{
 "cells": [
  {
   "cell_type": "code",
   "execution_count": null,
   "metadata": {},
   "outputs": [],
   "source": [
    "#program to find GCD of two numbers\n",
    "def gcd_fun (x, y):  \n",
    "    if (y == 0):   \n",
    "        return x  \n",
    "    else:  \n",
    "        return gcd_fun (y, x % y)  \n",
    "\n",
    "a, b=map(int,input(\"Enter two numbers:\").split())\n",
    "print(gcd_fun(a,b))     "
   ]
  },
  {
   "cell_type": "code",
   "execution_count": null,
   "metadata": {},
   "outputs": [],
   "source": [
    "#program to find largest in an array\n",
    "def largest(a):\n",
    "    max=a[0]\n",
    "    for i in a:\n",
    "        if i>max:\n",
    "            max=i\n",
    "    return max \n",
    "x=list(input(\"Enter the elements:\").split())\n",
    "print(f\"Largest number is:{largest(x)}\")           "
   ]
  },
  {
   "cell_type": "code",
   "execution_count": null,
   "metadata": {},
   "outputs": [],
   "source": [
    "#program to find if triangle is valid using sides\n",
    "from math import sqrt\n",
    "def is_valid_triangle(a,b,c):\n",
    "    if a+b>=c and b+c>=a and c+a>=b:\n",
    "        s=(a+b+c)/2\n",
    "        print(f'Area of triangle is {sqrt(s*(s-a)*(s-b)*(s-c))}')\n",
    "        return True\n",
    "    else:\n",
    "        return False\n",
    "\n",
    "a,b,c=map(int,input('enter the sides of triangle:').split())        \n",
    "\n",
    "print(f'is Triangle? :{is_valid_triangle(a,b,c)} ')"
   ]
  },
  {
   "cell_type": "code",
   "execution_count": null,
   "metadata": {},
   "outputs": [],
   "source": [
    "#binary search\n",
    "def binary_search(arr, low, high, x):\n",
    "\tif high >= low:\n",
    "\t\tmid = (high + low) // 2\n",
    "\t\tif arr[mid] == x:\n",
    "\t\t\treturn mid\n",
    "\t\telif arr[mid] > x:\n",
    "\t\t\treturn binary_search(arr, low, mid - 1, x)\n",
    "\t\telse:\n",
    "\t\t\treturn binary_search(arr, mid + 1, high, x)\n",
    "\telse:\n",
    "\t\treturn -1\n",
    "\n",
    "arr = [ 2, 3, 4, 10, 40 ]\n",
    "x = 10\n",
    "result = binary_search(arr, 0, len(arr)-1, x)\n",
    "\n",
    "if result != -1:\n",
    "\tprint(\"Element is present at index\", str(result))\n",
    "else:\n",
    "\tprint(\"Element is not present in array\")\n",
    "\n"
   ]
  },
  {
   "cell_type": "code",
   "execution_count": null,
   "metadata": {},
   "outputs": [],
   "source": [
    "#printing pattern\n",
    "n=int(input('enter the number of rows:'))\n",
    "\n",
    "for i in range(n+1):\n",
    "    print(\"* \" *i)"
   ]
  },
  {
   "cell_type": "code",
   "execution_count": null,
   "metadata": {},
   "outputs": [],
   "source": [
    "#convert number to words\n",
    "arr = ['zero','one','two','three','four','five','six','seven','eight','nine']\n",
    " \n",
    "def number_2_word(n):\n",
    "    pass\n",
    " \n",
    "n = int(input())\n",
    "print(\"Number Entered was : \", n)\n",
    "print(\"Converted to word it becomes: \",end=\"\")\n",
    "print(number_2_word(n))"
   ]
  },
  {
   "cell_type": "code",
   "execution_count": null,
   "metadata": {},
   "outputs": [],
   "source": [
    "#program to print the pattern\n",
    "size = 7\n",
    "m = (2 * size) - 2\n",
    "for i in range(0, size):\n",
    "    for j in range(0, m):\n",
    "        print(end=\" \")\n",
    "    m = m - 1\n",
    "    for j in range(0, i + 1):\n",
    "        print(\"* \", end=' ')\n",
    "    print(\" \")"
   ]
  },
  {
   "cell_type": "code",
   "execution_count": null,
   "metadata": {},
   "outputs": [],
   "source": [
    "phonebook=[]\n",
    "def addData(n):\n",
    "    for i in range(n):\n",
    "        contact={\n",
    "            \"name\":input(\"Enter the name:\"),\n",
    "            \"cellno\":int(input('Enter the cell no:')),\n",
    "            \"email\":input(\"Enter the email:\").split(\" \"),\n",
    "            \"lanlineNo\":int(input('Enter the landline no:'))\n",
    "        }\n",
    "        phonebook.append(contact)\n",
    "\n",
    "def search(name):\n",
    "    for i in phonebook:\n",
    "        if i[\"name\"]==name:\n",
    "            print(f\"Name: {i['name']}\")\n",
    "            print(f\"Cell no: {i['cellno']}\")\n",
    "            print(f\"Email: {i['email']}\")\n",
    "            print(f\"Landline no: {i['lanlineNo']}\")\n",
    "\n",
    "def main():\n",
    "    n=int(input('Enter the number of contacts:'))\n",
    "    addData(n)\n",
    "    name=input('Enter the name to search:')\n",
    "    search(name)\n",
    "\n",
    "if __name__=='__main__':\n",
    "    main()\n"
   ]
  },
  {
   "cell_type": "code",
   "execution_count": null,
   "metadata": {},
   "outputs": [],
   "source": [
    "class bank:\n",
    "    transations=[]\n",
    "    def transation(self,type,amount):\n",
    "        tran={\n",
    "            \"type\":type,\n",
    "            \"amount\":amount\n",
    "        }\n",
    "        self.transations.append(tran)\n",
    "    \n",
    "    def __init__(self,name,accno,balance):\n",
    "        self.name=name\n",
    "        self.accno=accno\n",
    "        self.balance=balance\n",
    "\n",
    "    \n",
    "    def display(self):\n",
    "        print(f\"Name: {self.name}\")\n",
    "        print(f\"Account no: {self.accno}\")\n",
    "        print(f\"Balance: {self.balance}\")\n",
    "\n",
    "b=bank('sachin','12345',10000)\n",
    "b.transation('credit',1000)\n",
    "b.transation('debit',2000)\n",
    "b.display()\n"
   ]
  },
  {
   "cell_type": "code",
   "execution_count": null,
   "metadata": {},
   "outputs": [],
   "source": [
    "import math\n",
    "\n",
    "class twoStacks:\n",
    "\n",
    "\tdef __init__(self, n):\t # constructor\n",
    "\t\tself.size = n\n",
    "\t\tself.arr = [None] * n\n",
    "\t\tself.top1 = math.floor(n/2) + 1\n",
    "\t\tself.top2 = math.floor(n/2)\n",
    "\n",
    "    def pop1(self):\n",
    "\t\tif self.top1 <= self.size/2: \n",
    "\t\t\tx = self.arr[self.top1]\n",
    "\t\t\tself.top1 = self.top1 +1\n",
    "\t\t\treturn x\n",
    "\t\telse:\n",
    "\t\t\tprint(\"Stack Underflow \")\n",
    "\t\t\texit(1)\n",
    "\n",
    "\tdef pop2(self):\n",
    "\t\tif self.top2 >= math.floor(self.size/2) + 1:\n",
    "\t\t\tx = self.arr[self.top2]\n",
    "\t\t\tself.top2 = self.top2 - 1\n",
    "\t\t\treturn x\n",
    "\t\telse:\n",
    "\t\t\tprint(\"Stack Underflow \")\n",
    "\t\t\texit(1)    \n",
    "\n",
    "\tdef push1(self,x):\n",
    "\t\tif self.top1 > 0:\n",
    "\t\t\tself.top1 = self.top1 - 1\n",
    "\t\t\tself.arr[self.top1] = x\n",
    "\t\telse:\n",
    "\t\t\tprint(\"Stack Overflow by element : \", x)\n",
    "\n",
    "\tdef push2(self,x):\n",
    "\t\tif self.top2 < self.size - 1:\n",
    "\t\t\tself.top2 = self.top2 + 1\n",
    "\t\t\tself.arr[self.top2] = x\n",
    "\t\telse :\n",
    "\t\t    print(\"Stack Overflow by element : \", x)\n",
    "\n",
    "    \n",
    "\n",
    "\n",
    "ts = twoStacks(5)\n",
    "ts.push1(5)\n",
    "ts.push2(10)\n",
    "ts.push2(15)\n",
    "ts.push1(11)\n",
    "ts.push2(7)\n",
    "print(\"Popped element from stack1 is : \" + str(ts.pop1()))\n",
    "ts.push2(40)\n",
    "print(\"Popped element from stack2 is : \" + str(ts.pop2()))\n"
   ]
  },
  {
   "cell_type": "code",
   "execution_count": 3,
   "metadata": {},
   "outputs": [
    {
     "name": "stdout",
     "output_type": "stream",
     "text": [
      "the list of odd numbers between 100 and 200 are:\n",
      "101 103 105 107 109 111 113 115 117 119 121 123 125 127 129 131 133 135 137 139 141 143 145 147 149 151 153 155 157 159 161 163 165 167 169 171 173 175 177 179 181 183 185 187 189 191 193 195 197 199 "
     ]
    }
   ],
   "source": [
    "n,m=map(int,input(\"Enter the starting and ending range\").split(\" \"))\n",
    "lst=[]\n",
    "print(f'the list of odd numbers between {n} and {m} are:')\n",
    "for i in range(n,m+1):\n",
    "    lst.append(i)\n",
    "    if (i%2)!=0:\n",
    "        print(i,end=\" \")\n"
   ]
  },
  {
   "cell_type": "code",
   "execution_count": 4,
   "metadata": {},
   "outputs": [
    {
     "name": "stdout",
     "output_type": "stream",
     "text": [
      "Square of 1 is 1.\n",
      "\n",
      "Square of 2 is 4.\n",
      "\n",
      "Square of 3 is 9.\n",
      "\n",
      "Square of 4 is 16.\n",
      "\n",
      "Square of 5 is 25.\n",
      "\n"
     ]
    }
   ],
   "source": [
    "n=int(input('Enter the limit:'))\n",
    "for i in range(1,n+1):\n",
    "    print(f'Square of {i} is {i**2}.')"
   ]
  },
  {
   "cell_type": "code",
   "execution_count": 9,
   "metadata": {},
   "outputs": [
    {
     "name": "stdout",
     "output_type": "stream",
     "text": [
      "File not found\n"
     ]
    }
   ],
   "source": [
    "try:\n",
    "\tf = open(\"filename\",\"r\")\n",
    "\n",
    "except FileNotFoundError:\n",
    "    print(\"File not found\")\n",
    "\n",
    "except OSError:\n",
    "    print(\"os could'nt open the file\")\n"
   ]
  },
  {
   "cell_type": "code",
   "execution_count": 15,
   "metadata": {},
   "outputs": [
    {
     "name": "stdout",
     "output_type": "stream",
     "text": [
      "The number of words starting with s and ending with r are 2\n"
     ]
    }
   ],
   "source": [
    "count=0\n",
    "with open(\"/Users/nimis/Documents/file.txt\") as f:\n",
    "    for line in f:\n",
    "        line=line.strip()\n",
    "        if str(line[0])==\"s\" and str(line[-1])=='r':\n",
    "            count=count+1\n",
    "\n",
    "print(f'The number of words starting with s and ending with r are {count}')"
   ]
  },
  {
   "cell_type": "code",
   "execution_count": null,
   "metadata": {},
   "outputs": [],
   "source": []
  }
 ],
 "metadata": {
  "kernelspec": {
   "display_name": "Python 3.10.5 64-bit",
   "language": "python",
   "name": "python3"
  },
  "language_info": {
   "codemirror_mode": {
    "name": "ipython",
    "version": 3
   },
   "file_extension": ".py",
   "mimetype": "text/x-python",
   "name": "python",
   "nbconvert_exporter": "python",
   "pygments_lexer": "ipython3",
   "version": "3.10.5"
  },
  "orig_nbformat": 4,
  "vscode": {
   "interpreter": {
    "hash": "e84323d39ec0853d82281457ddb6be39d7eb15f33c1e238a7ff535db111b62a8"
   }
  }
 },
 "nbformat": 4,
 "nbformat_minor": 2
}
