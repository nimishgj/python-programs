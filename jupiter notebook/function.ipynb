{
 "cells": [
  {
   "cell_type": "code",
   "execution_count": 4,
   "id": "f0739706",
   "metadata": {
    "scrolled": false
   },
   "outputs": [
    {
     "name": "stdout",
     "output_type": "stream",
     "text": [
      "Ooperations available:1.addition  2.subtraction   3.multiply   4.division\n",
      "Enter your choice:4\n",
      "Enter two numbers:2 0\n",
      "Error:Cannot divide 2 by zero.!!\n"
     ]
    }
   ],
   "source": [
    "def add(a,b):\n",
    "    print(f\"Addition result:{a+b}\")\n",
    "    \n",
    "def sub(a,b):\n",
    "    print(f\"subtraction result:{a-b}\")  \n",
    "    \n",
    "def mul(a,b):\n",
    "    print(f\"multiplication result:{a*b}\")      \n",
    "    \n",
    "def div(a,b):\n",
    "    print(f\"divison result:{a/b}\")          \n",
    "    \n",
    "ch=int(input(\"Ooperations available:1.addition  2.subtraction   3.multiply   4.division\\nEnter your choice:\"))\n",
    "    \n",
    "    \n",
    "if ch>4:\n",
    "    print(\"Invalid choice..!\")\n",
    "else:\n",
    "    a,b=map(int,input(\"Enter two numbers:\").split(\" \"))\n",
    "    if ch==1:\n",
    "        add(a,b)\n",
    "    elif ch==2:\n",
    "        sub(a,b)\n",
    "    elif ch==3:\n",
    "        mul(a,b)\n",
    "    elif ch==4:\n",
    "        if b==0:\n",
    "            print(f\"Error:Cannot divide {a} by zero.!!\")\n",
    "        else:    \n",
    "            div(a,b)\n",
    "    \n",
    "\n",
    "    "
   ]
  },
  {
   "cell_type": "code",
   "execution_count": 3,
   "id": "be6eb13c",
   "metadata": {},
   "outputs": [
    {
     "name": "stdout",
     "output_type": "stream",
     "text": [
      "fruit ='apple'\n",
      "a\n",
      "p\n",
      "p\n",
      "l\n",
      "e\n",
      "\n",
      "fruit ='orange'\n",
      "o\n",
      "r\n",
      "a\n",
      "n\n",
      "g\n",
      "e\n",
      "\n",
      "fruit ='mango'\n",
      "m\n",
      "a\n",
      "n\n",
      "g\n",
      "o\n",
      "\n"
     ]
    }
   ],
   "source": [
    "fruits=['apple','orange','mango']\n",
    "for fruit in fruits:\n",
    "    print(f\"{fruit =}\")\n",
    "    for letter in fruit:\n",
    "        print(letter)\n",
    "    print()    "
   ]
  },
  {
   "cell_type": "code",
   "execution_count": null,
   "id": "c1e3e572",
   "metadata": {},
   "outputs": [],
   "source": [
    "i=0\n",
    "while i<=10: \n",
    "    i+=1\n",
    "    if i==6:\n",
    "        continue\n",
    "    print(i)\n",
    "        "
   ]
  },
  {
   "cell_type": "code",
   "execution_count": 45,
   "id": "45033b53",
   "metadata": {},
   "outputs": [
    {
     "name": "stdout",
     "output_type": "stream",
     "text": [
      "0 is less than 10\n",
      "1 is less than 10\n",
      "2 is less than 10\n",
      "3 is less than 10\n",
      "4 is less than 10\n",
      "5 is less than 10\n",
      "6 is less than 10\n",
      "7 is less than 10\n",
      "8 is less than 10\n",
      "9 is less than 10\n",
      "10 is equal to 10\n"
     ]
    }
   ],
   "source": [
    "i=0\n",
    "while i<10:\n",
    "    print(f\"{i} is less than 10\")\n",
    "    i+=1\n",
    "else:\n",
    "    print(f'{i} is equal to 10')\n",
    "\n",
    "    \n",
    "    \n",
    "    "
   ]
  },
  {
   "cell_type": "code",
   "execution_count": 3,
   "id": "17e06ed1",
   "metadata": {},
   "outputs": [
    {
     "name": "stdout",
     "output_type": "stream",
     "text": [
      "3\n",
      "2\n",
      "1\n"
     ]
    }
   ],
   "source": [
    "i=123\n",
    "while i!=0:\n",
    "    rem=i%10\n",
    "    print(int(rem))\n",
    "    i//=10"
   ]
  },
  {
   "cell_type": "code",
   "execution_count": 3,
   "id": "fd112df1",
   "metadata": {},
   "outputs": [
    {
     "name": "stdout",
     "output_type": "stream",
     "text": [
      "['p', 'n', 'a']\n"
     ]
    }
   ],
   "source": [
    "fruits=['apple','mango','orange']\n",
    "print ([m for m in fruits])"
   ]
  },
  {
   "cell_type": "code",
   "execution_count": 18,
   "id": "eac705b1",
   "metadata": {},
   "outputs": [
    {
     "data": {
      "text/plain": [
       "[5, 7, 9]"
      ]
     },
     "execution_count": 18,
     "metadata": {},
     "output_type": "execute_result"
    }
   ],
   "source": [
    "l1=[1,2,3]\n",
    "l2=[4,5,6]\n",
    "l3=[]\n",
    "l4=[sum(i) for i in zip(l1,l2)]\n",
    "l4"
   ]
  },
  {
   "cell_type": "code",
   "execution_count": 16,
   "id": "7a1797fd",
   "metadata": {},
   "outputs": [
    {
     "data": {
      "text/plain": [
       "[5, 7, 9]"
      ]
     },
     "execution_count": 16,
     "metadata": {},
     "output_type": "execute_result"
    }
   ],
   "source": [
    "for i in range(len(l1)):\n",
    "    l3.append(l1[i]+l2[i])\n",
    "    \n",
    "l3    "
   ]
  },
  {
   "cell_type": "code",
   "execution_count": 19,
   "id": "b0bdf174",
   "metadata": {},
   "outputs": [
    {
     "data": {
      "text/plain": [
       "15"
      ]
     },
     "execution_count": 19,
     "metadata": {},
     "output_type": "execute_result"
    }
   ],
   "source": [
    "lst=[1,2,3,4,5]\n",
    "sum(lst)"
   ]
  },
  {
   "cell_type": "code",
   "execution_count": 21,
   "id": "c05636c5",
   "metadata": {},
   "outputs": [
    {
     "data": {
      "text/plain": [
       "'s'"
      ]
     },
     "execution_count": 21,
     "metadata": {},
     "output_type": "execute_result"
    }
   ],
   "source": [
    "str='fdsaa'\n",
    "max(str)"
   ]
  },
  {
   "cell_type": "code",
   "execution_count": 3,
   "id": "89e82d3e",
   "metadata": {},
   "outputs": [
    {
     "data": {
      "text/plain": [
       "'zzz'"
      ]
     },
     "execution_count": 3,
     "metadata": {},
     "output_type": "execute_result"
    }
   ],
   "source": [
    "list=['apple','mango','cherry','zzz']\n",
    "max(list)"
   ]
  },
  {
   "cell_type": "code",
   "execution_count": 4,
   "id": "51512422",
   "metadata": {},
   "outputs": [
    {
     "data": {
      "text/plain": [
       "'apple'"
      ]
     },
     "execution_count": 4,
     "metadata": {},
     "output_type": "execute_result"
    }
   ],
   "source": [
    "min(list)"
   ]
  },
  {
   "cell_type": "code",
   "execution_count": 5,
   "id": "e47a8977",
   "metadata": {},
   "outputs": [
    {
     "ename": "TypeError",
     "evalue": "unsupported operand type(s) for +: 'int' and 'str'",
     "output_type": "error",
     "traceback": [
      "\u001b[1;31m---------------------------------------------------------------------------\u001b[0m",
      "\u001b[1;31mTypeError\u001b[0m                                 Traceback (most recent call last)",
      "Input \u001b[1;32mIn [5]\u001b[0m, in \u001b[0;36m<cell line: 1>\u001b[1;34m()\u001b[0m\n\u001b[1;32m----> 1\u001b[0m \u001b[38;5;28;43msum\u001b[39;49m\u001b[43m(\u001b[49m\u001b[38;5;28;43mlist\u001b[39;49m\u001b[43m)\u001b[49m\n",
      "\u001b[1;31mTypeError\u001b[0m: unsupported operand type(s) for +: 'int' and 'str'"
     ]
    }
   ],
   "source": [
    "sum(list)\n",
    "list.index"
   ]
  },
  {
   "cell_type": "code",
   "execution_count": 9,
   "id": "fbdc1531",
   "metadata": {},
   "outputs": [
    {
     "name": "stdout",
     "output_type": "stream",
     "text": [
      "Count:1\n",
      "Enter rollno name score:21 dsf 2\n",
      "Enter the roll number to be searched:2134\n",
      "Invalid index.!!\n"
     ]
    }
   ],
   "source": [
    "n=int(input(\"Count:\"))\n",
    "rollno=[]\n",
    "name=[]\n",
    "score=[]\n",
    "\n",
    "for i in range(n):\n",
    "    r,n,s=map(str,input(\"Enter rollno name score:\").split(\" \"))\n",
    "    rollno.append(int(r))\n",
    "    name.append(n)\n",
    "    score.append(int(s))\n",
    "    \n",
    "r=int(input(\"Enter the roll number to be searched:\"))\n",
    "try:\n",
    "    i=rollno.index(r)\n",
    "    print(f\"Rollno:{rollno[i]}\\nName:{name[i]}\\nScore:{score[i]}\")\n",
    "except:\n",
    "    print('Invalid index Entered.!!')"
   ]
  },
  {
   "cell_type": "code",
   "execution_count": 20,
   "id": "143a692f",
   "metadata": {},
   "outputs": [
    {
     "name": "stdout",
     "output_type": "stream",
     "text": [
      "('name', 'Karthik')\n",
      "('lastname', 'j')\n",
      "{'name': 'Karthik', 'lastname': 'j'}\n"
     ]
    },
    {
     "ename": "AttributeError",
     "evalue": "'int' object has no attribute 'items'",
     "output_type": "error",
     "traceback": [
      "\u001b[1;31m---------------------------------------------------------------------------\u001b[0m",
      "\u001b[1;31mAttributeError\u001b[0m                            Traceback (most recent call last)",
      "Input \u001b[1;32mIn [20]\u001b[0m, in \u001b[0;36m<cell line: 4>\u001b[1;34m()\u001b[0m\n\u001b[0;32m      2\u001b[0m \u001b[38;5;28mdict\u001b[39m\u001b[38;5;241m=\u001b[39m{\u001b[38;5;124m'\u001b[39m\u001b[38;5;124mname\u001b[39m\u001b[38;5;124m'\u001b[39m:d,\u001b[38;5;124m'\u001b[39m\u001b[38;5;124mage\u001b[39m\u001b[38;5;124m'\u001b[39m:\u001b[38;5;241m20\u001b[39m}\n\u001b[0;32m      4\u001b[0m \u001b[38;5;28;01mfor\u001b[39;00m i,v \u001b[38;5;129;01min\u001b[39;00m \u001b[38;5;28mdict\u001b[39m\u001b[38;5;241m.\u001b[39mitems():\n\u001b[1;32m----> 5\u001b[0m     \u001b[38;5;28;01mfor\u001b[39;00m n \u001b[38;5;129;01min\u001b[39;00m \u001b[43mv\u001b[49m\u001b[38;5;241;43m.\u001b[39;49m\u001b[43mitems\u001b[49m():\n\u001b[0;32m      6\u001b[0m         \u001b[38;5;28mprint\u001b[39m(n)\n\u001b[0;32m      7\u001b[0m     \u001b[38;5;28mprint\u001b[39m(v)\n",
      "\u001b[1;31mAttributeError\u001b[0m: 'int' object has no attribute 'items'"
     ]
    }
   ],
   "source": [
    "d={'name':'Karthik',\"lastname\":\"j\"}\n",
    "dict={'name':d,'age':20}\n",
    "\n",
    "for i,v in dict.items():\n",
    "    for n in v.items():\n",
    "        print(n)\n",
    "    print(v)    "
   ]
  },
  {
   "cell_type": "code",
   "execution_count": 17,
   "id": "0393d1de",
   "metadata": {},
   "outputs": [
    {
     "name": "stdout",
     "output_type": "stream",
     "text": [
      "('name', 'Karthik')\n",
      "('lastname', 'j')\n"
     ]
    },
    {
     "ename": "AttributeError",
     "evalue": "'int' object has no attribute 'items'",
     "output_type": "error",
     "traceback": [
      "\u001b[1;31m---------------------------------------------------------------------------\u001b[0m",
      "\u001b[1;31mAttributeError\u001b[0m                            Traceback (most recent call last)",
      "Input \u001b[1;32mIn [17]\u001b[0m, in \u001b[0;36m<cell line: 1>\u001b[1;34m()\u001b[0m\n\u001b[0;32m      1\u001b[0m \u001b[38;5;28;01mfor\u001b[39;00m k,v \u001b[38;5;129;01min\u001b[39;00m \u001b[38;5;28mdict\u001b[39m\u001b[38;5;241m.\u001b[39mitems():\n\u001b[1;32m----> 2\u001b[0m     \u001b[38;5;28;01mfor\u001b[39;00m i \u001b[38;5;129;01min\u001b[39;00m \u001b[43mv\u001b[49m\u001b[38;5;241;43m.\u001b[39;49m\u001b[43mitems\u001b[49m():\n\u001b[0;32m      3\u001b[0m         \u001b[38;5;28mprint\u001b[39m(i)\n",
      "\u001b[1;31mAttributeError\u001b[0m: 'int' object has no attribute 'items'"
     ]
    }
   ],
   "source": [
    "for k,v in dict.items():\n",
    "    for i in v.items():\n",
    "        print(i)"
   ]
  },
  {
   "cell_type": "code",
   "execution_count": 2,
   "id": "dc4ebe2b",
   "metadata": {},
   "outputs": [
    {
     "name": "stdout",
     "output_type": "stream",
     "text": [
      "Number of inputs:2\n",
      "Enter the rollno name score:543 dgf 2435\n",
      "Enter the rollno name score:432 hgdf 65\n",
      "Enter the rollno to be searched:9\n",
      "Rollno not found..!\n"
     ]
    }
   ],
   "source": [
    "dict={}\n",
    "n=int(input(\"Number of inputs:\"))\n",
    "for i in range(n):\n",
    "    r,n,s=map(str,input(\"Enter the rollno name score:\").split(\" \"))\n",
    "    dict[r]={'name':n,'score':int(s)}\n",
    "\n",
    "i=input(\"Enter the rollno to be searched:\")\n",
    "if i in dict:\n",
    "    print(f\"Name:{dict[i]['name']}\\nScore:{dict[i]['score']}\")\n",
    "else:\n",
    "    print(\"Rollno not found..!\")     "
   ]
  },
  {
   "cell_type": "code",
   "execution_count": 5,
   "id": "e3370864",
   "metadata": {},
   "outputs": [
    {
     "name": "stdout",
     "output_type": "stream",
     "text": [
      "Enter the string:hello\n",
      "count of h:1\n",
      "count of l:2\n",
      "count of e:1\n",
      "count of o:1\n"
     ]
    }
   ],
   "source": [
    "string=input(\"Enter the string:\")\n",
    "for i in set(string):\n",
    "    print(f\"count of {i}:{string.count(i)}\")"
   ]
  },
  {
   "cell_type": "code",
   "execution_count": null,
   "id": "faf69303",
   "metadata": {},
   "outputs": [],
   "source": [
    "string1=input(\"Enter the string:\")\n",
    "res={}\n",
    "for i in string1:\n",
    "    if i in res:\n",
    "        res[i]+=1\n",
    "    else:\n",
    "        res[i]=1\n",
    "for k,v in res.items():\n",
    "    print(f'count of {k}:{v}')"
   ]
  },
  {
   "cell_type": "code",
   "execution_count": 10,
   "id": "f743dec2",
   "metadata": {},
   "outputs": [
    {
     "name": "stdout",
     "output_type": "stream",
     "text": [
      "data written\n"
     ]
    }
   ],
   "source": [
    "with open(\"D:\\\\abc.txt\",'r') as f1:\n",
    "    with open(\"D:\\\\xyz.txt\",'w') as f2:\n",
    "        f2.write(f1.read())\n",
    "print(\"data written\")        "
   ]
  },
  {
   "cell_type": "raw",
   "id": "8965e3f1",
   "metadata": {},
   "source": [
    "csv.reader will read in list format\n",
    "csv.DictReader will read in dict format"
   ]
  },
  {
   "cell_type": "code",
   "execution_count": 14,
   "id": "3cbd6638",
   "metadata": {},
   "outputs": [
    {
     "name": "stdout",
     "output_type": "stream",
     "text": [
      "Number of inputs:3\n",
      "Enter the rollno name score:321 fg 423\n",
      "Enter the rollno name score:432 fdgs 453\n",
      "Enter the rollno name score:243 dhfgs 342\n",
      "Operation succesful\n"
     ]
    }
   ],
   "source": [
    "import csv\n",
    "with open(\"D:\\\\ac.csv\",'w',newline='') as f:\n",
    "    n=int(input(\"Number of inputs:\"))\n",
    "    wt=csv.writer(f)\n",
    "    wt.writerow(['rollno','name','score'])\n",
    "    for i in range(n):\n",
    "        r,n,s=map(str,input(\"Enter the rollno name score:\").split(\" \"))\n",
    "        wt.writerow([int(r),n,int(s)])\n",
    "print(\"Operation succesful\")        "
   ]
  },
  {
   "cell_type": "code",
   "execution_count": 3,
   "id": "9ca58ba7",
   "metadata": {},
   "outputs": [
    {
     "name": "stdout",
     "output_type": "stream",
     "text": [
      "First name:a\n",
      "last name:b\n",
      "Age:12\n",
      "Total:69\n"
     ]
    }
   ],
   "source": [
    "class student():\n",
    "    def __init__(self,fname,lname,age,mrks):\n",
    "        self.fname=fname\n",
    "        self.lname=lname\n",
    "        self.age=age\n",
    "        self.mrks=mrks\n",
    "        print(f\"First name:{self.fname}\\nlast name:{self.lname}\\nAge:{self.age}\")\n",
    "        \n",
    "    def total(self):\n",
    "        print(f\"Total:{sum(self.mrks)}\")\n",
    "              \n",
    "obj=student('a','b',12,[12,23,34])\n",
    "obj.total()"
   ]
  },
  {
   "cell_type": "code",
   "execution_count": 6,
   "id": "01646eaf",
   "metadata": {},
   "outputs": [
    {
     "ename": "AttributeError",
     "evalue": "'c' object has no attribute 'fname'",
     "output_type": "error",
     "traceback": [
      "\u001b[1;31m---------------------------------------------------------------------------\u001b[0m",
      "\u001b[1;31mAttributeError\u001b[0m                            Traceback (most recent call last)",
      "Input \u001b[1;32mIn [6]\u001b[0m, in \u001b[0;36m<cell line: 13>\u001b[1;34m()\u001b[0m\n\u001b[0;32m     10\u001b[0m         \u001b[38;5;28mprint\u001b[39m(\u001b[38;5;124mf\u001b[39m\u001b[38;5;124m\"\u001b[39m\u001b[38;5;124mTotal:\u001b[39m\u001b[38;5;132;01m{\u001b[39;00m\u001b[38;5;28msum\u001b[39m(\u001b[38;5;28mself\u001b[39m\u001b[38;5;241m.\u001b[39mmrks)\u001b[38;5;132;01m}\u001b[39;00m\u001b[38;5;124m\"\u001b[39m)\n\u001b[0;32m     12\u001b[0m obj\u001b[38;5;241m=\u001b[39mc(\u001b[38;5;124m'\u001b[39m\u001b[38;5;124ma\u001b[39m\u001b[38;5;124m'\u001b[39m,\u001b[38;5;124m'\u001b[39m\u001b[38;5;124mb\u001b[39m\u001b[38;5;124m'\u001b[39m,\u001b[38;5;241m12\u001b[39m,[\u001b[38;5;241m12\u001b[39m,\u001b[38;5;241m23\u001b[39m,\u001b[38;5;241m34\u001b[39m])\n\u001b[1;32m---> 13\u001b[0m \u001b[43mobj\u001b[49m\u001b[38;5;241;43m.\u001b[39;49m\u001b[43mfname\u001b[49m\n\u001b[0;32m     15\u001b[0m \u001b[38;5;28;01mclass\u001b[39;00m \u001b[38;5;21;01mc\u001b[39;00m(student):\n\u001b[0;32m     16\u001b[0m     \u001b[38;5;28;01mdef\u001b[39;00m \u001b[38;5;21m__init__\u001b[39m(x,a,s,d,f):\n",
      "\u001b[1;31mAttributeError\u001b[0m: 'c' object has no attribute 'fname'"
     ]
    }
   ],
   "source": [
    "class student():\n",
    "    def __init__(self,fname,lname,age,mrks):\n",
    "        self.fname=fname\n",
    "        self.lname=lname\n",
    "        self.age=age\n",
    "        self.mrks=mrks\n",
    "        print(f\"First name:{self.fname}\\nlast name:{self.lname}\\nAge:{self.age}\")\n",
    "        \n",
    "    def total(self):s\n",
    "        print(f\"Total:{sum(self.mrks)}\")\n",
    "              \n",
    "obj=c('a','b',12,[12,23,34])\n",
    "\n",
    "\n",
    "class c(student):\n",
    "    def __init__(x,a,s,d,f):\n",
    "        x.a=a\n",
    "        x.s=s\n",
    "        x.d=d\n",
    "        x.f=f"
   ]
  },
  {
   "cell_type": "code",
   "execution_count": 8,
   "id": "fe73e0ed",
   "metadata": {},
   "outputs": [
    {
     "ename": "TypeError",
     "evalue": "__init__() takes 0 positional arguments but 1 was given",
     "output_type": "error",
     "traceback": [
      "\u001b[1;31m---------------------------------------------------------------------------\u001b[0m",
      "\u001b[1;31mTypeError\u001b[0m                                 Traceback (most recent call last)",
      "Input \u001b[1;32mIn [8]\u001b[0m, in \u001b[0;36m<cell line: 19>\u001b[1;34m()\u001b[0m\n\u001b[0;32m     15\u001b[0m     \u001b[38;5;28;01mdef\u001b[39;00m \u001b[38;5;21md\u001b[39m():\n\u001b[0;32m     16\u001b[0m         \u001b[38;5;28mprint\u001b[39m(\u001b[38;5;124mf\u001b[39m\u001b[38;5;124m\"\u001b[39m\u001b[38;5;132;01m{\u001b[39;00ma\u001b[38;5;132;01m}\u001b[39;00m\u001b[38;5;124m  \u001b[39m\u001b[38;5;132;01m{\u001b[39;00mb\u001b[38;5;132;01m}\u001b[39;00m\u001b[38;5;124m  \u001b[39m\u001b[38;5;132;01m{\u001b[39;00mc\u001b[38;5;132;01m}\u001b[39;00m\u001b[38;5;124m\"\u001b[39m)\n\u001b[1;32m---> 19\u001b[0m x\u001b[38;5;241m=\u001b[39m\u001b[43mb\u001b[49m\u001b[43m(\u001b[49m\u001b[43m)\u001b[49m\n\u001b[0;32m     20\u001b[0m x\u001b[38;5;241m.\u001b[39md()\n",
      "\u001b[1;31mTypeError\u001b[0m: __init__() takes 0 positional arguments but 1 was given"
     ]
    }
   ],
   "source": [
    "class a():\n",
    "    def __init__():\n",
    "        a=\"hello\"\n",
    "        \n",
    "class b(a):\n",
    "    def __init__():\n",
    "        super().__init__()\n",
    "        b='l'\n",
    "        \n",
    "class c(b):\n",
    "    def __init__():\n",
    "        super().__init__()\n",
    "        c='l'\n",
    "        \n",
    "    def d():\n",
    "        print(f\"{a}  {b}  {c}\")\n",
    "        \n",
    "        \n",
    "x=b()\n",
    "x.d()"
   ]
  },
  {
   "cell_type": "code",
   "execution_count": null,
   "id": "e725e989",
   "metadata": {},
   "outputs": [],
   "source": []
  }
 ],
 "metadata": {
  "kernelspec": {
   "display_name": "Python 3 (ipykernel)",
   "language": "python",
   "name": "python3"
  },
  "language_info": {
   "codemirror_mode": {
    "name": "ipython",
    "version": 3
   },
   "file_extension": ".py",
   "mimetype": "text/x-python",
   "name": "python",
   "nbconvert_exporter": "python",
   "pygments_lexer": "ipython3",
   "version": "3.9.12"
  }
 },
 "nbformat": 4,
 "nbformat_minor": 5
}
